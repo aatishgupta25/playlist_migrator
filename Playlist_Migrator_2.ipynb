{
  "nbformat": 4,
  "nbformat_minor": 0,
  "metadata": {
    "colab": {
      "provenance": [],
      "include_colab_link": true
    },
    "kernelspec": {
      "name": "python3",
      "display_name": "Python 3"
    },
    "language_info": {
      "name": "python"
    }
  },
  "cells": [
    {
      "cell_type": "markdown",
      "metadata": {
        "id": "view-in-github",
        "colab_type": "text"
      },
      "source": [
        "<a href=\"https://colab.research.google.com/github/aatishgupta25/playlist_migrator/blob/main/Playlist_Migrator_2.ipynb\" target=\"_parent\"><img src=\"https://colab.research.google.com/assets/colab-badge.svg\" alt=\"Open In Colab\"/></a>"
      ]
    },
    {
      "cell_type": "code",
      "execution_count": null,
      "metadata": {
        "id": "hgSWDMBFWWRH"
      },
      "outputs": [],
      "source": [
        "# All Imports :\n",
        "\n",
        "import pprint\n",
        "import time\n",
        "import spotipy\n",
        "from spotipy.oauth2 import SpotifyOAuth\n",
        "from google_auth_oauthlib.flow import Flow\n",
        "from googleapiclient.discovery import build\n",
        "from googleapiclient.errors import HttpError\n"
      ]
    },
    {
      "cell_type": "markdown",
      "source": [
        "# Getting the tracks from Spotify"
      ],
      "metadata": {
        "id": "js3zbTl9Xysk"
      }
    },
    {
      "cell_type": "markdown",
      "source": [
        "\n",
        "Spotify API setup"
      ],
      "metadata": {
        "id": "uM3xgYHjYJVn"
      }
    },
    {
      "cell_type": "code",
      "source": [
        "\n",
        "SPOTIPY_CLIENT_ID = 'YOUR_SPOTIFY_CLIENT_ID'\n",
        "SPOTIPY_CLIENT_SECRET = 'YOUR_SPOTIFY_CLIENT_SECRET'\n",
        "SPOTIPY_REDIRECT_URI = 'http://localhost:8888/callback'\n",
        "\n",
        "sp = spotipy.Spotify(auth_manager=SpotifyOAuth(\n",
        "    client_id=SPOTIPY_CLIENT_ID,\n",
        "    client_secret=SPOTIPY_CLIENT_SECRET,\n",
        "    redirect_uri=SPOTIPY_REDIRECT_URI,\n",
        "    scope='playlist-read-private',\n",
        "    open_browser=False))\n"
      ],
      "metadata": {
        "id": "ent94rXXXMzK"
      },
      "execution_count": null,
      "outputs": []
    },
    {
      "cell_type": "markdown",
      "source": [
        "To store all songs from a playlist in a dictionary while handling rate-limits\n"
      ],
      "metadata": {
        "id": "Nq3V5mlbYOvb"
      }
    },
    {
      "cell_type": "code",
      "source": [
        "def fetch_spotify_tracks(playlist_id):\n",
        "    results = sp.playlist_tracks(playlist_id)\n",
        "    tracks = results['items']\n",
        "    while results['next']:\n",
        "        try:\n",
        "            results = sp.next(results)\n",
        "            tracks.extend(results['items'])\n",
        "        except spotipy.exceptions.SpotifyException as e:\n",
        "            if e.http_status == 429:\n",
        "                retry_after = int(e.headers.get('Retry-After', 5))\n",
        "                print(f\"Rate Limit hit, sleeping for {retry_after} seconds\")\n",
        "                time.sleep(retry_after)\n",
        "            else:\n",
        "                raise e\n",
        "    return tracks\n"
      ],
      "metadata": {
        "id": "tWQUmlGAXQ4j"
      },
      "execution_count": null,
      "outputs": []
    },
    {
      "cell_type": "markdown",
      "source": [
        "\n",
        "Get Spotify playlist ID from user\n"
      ],
      "metadata": {
        "id": "R5L-O4CFYTyx"
      }
    },
    {
      "cell_type": "code",
      "source": [
        "playlist_id = input(\"Enter Spotify Playlist ID: \")\n",
        "tracks = fetch_spotify_tracks(playlist_id)\n",
        "\n",
        "songs = []\n",
        "for item in tracks:\n",
        "    track = item['track']\n",
        "    song_name = track['name']\n",
        "    artist_name = track['artists'][0]['name']\n",
        "    songs.append((song_name, artist_name))\n",
        "\n",
        "# To display all the songs fromm the given playlist ID\n",
        "pprint.pp(songs)\n"
      ],
      "metadata": {
        "id": "0Wwp4JJ9XXev"
      },
      "execution_count": null,
      "outputs": []
    },
    {
      "cell_type": "markdown",
      "source": [
        "\n",
        "Disconnect Spotify client"
      ],
      "metadata": {
        "id": "gRATvzqdYZzp"
      }
    },
    {
      "cell_type": "code",
      "source": [
        "\n",
        "token_info = sp.auth_manager.get_cached_token()\n",
        "if token_info:\n",
        "    sp.auth_manager.refresh_access_token(token_info['refresh_token'])\n",
        "    sp.auth_manager.cache_handler.save_token_to_cache(None)\n",
        "    print(\"Spotify client disconnected and token cleared.\")\n",
        "else:\n",
        "    print(\"No active Spotify session to disconnect.\")\n",
        "\n",
        "sp = None\n"
      ],
      "metadata": {
        "id": "Ae9xL9ziXbdH"
      },
      "execution_count": null,
      "outputs": []
    },
    {
      "cell_type": "markdown",
      "source": [
        "# Adding tracks to the new Youtube Playlist"
      ],
      "metadata": {
        "id": "b_cCwoRGYBPx"
      }
    },
    {
      "cell_type": "markdown",
      "source": [
        "\n",
        "YouTube API setup"
      ],
      "metadata": {
        "id": "T5Pz3WW9YeVO"
      }
    },
    {
      "cell_type": "code",
      "source": [
        "\n",
        "scopes = [\"https://www.googleapis.com/auth/youtube.force-ssl\"]\n",
        "\n",
        "def get_authenticated_service():\n",
        "    flow = Flow.from_client_secrets_file(\n",
        "        'YOUR_YOUTUBE_CLIENT_SECRETS_FILE.json',\n",
        "        scopes=scopes)\n",
        "    flow.redirect_uri = 'https://localhost'\n",
        "\n",
        "    auth_url, _ = flow.authorization_url(prompt='consent')\n",
        "\n",
        "    print(f\"Please go to this URL: {auth_url}\")\n",
        "    code = input(\"Enter the authorization code: \")\n",
        "\n",
        "    flow.fetch_token(code=code)\n",
        "\n",
        "    return build('youtube', 'v3', credentials=flow.credentials)\n",
        "\n",
        "youtube = get_authenticated_service()\n",
        "\n",
        "print(\"Authentication successful!\")\n",
        "\n",
        "# Test YouTube connection\n",
        "try:\n",
        "    request = youtube.channels().list(\n",
        "        part=\"snippet,contentDetails,statistics\",\n",
        "        mine=True\n",
        "    )\n",
        "    response = request.execute()\n",
        "    print(\"Connection to YouTube API successful!\")\n",
        "except HttpError as e:\n",
        "    print(f\"An HTTP error occurred: {e.resp.status} {e.content}\")\n",
        "except Exception as e:\n",
        "    print(f\"An error occurred: {e}\")\n"
      ],
      "metadata": {
        "id": "3jQHE8taXgh3"
      },
      "execution_count": null,
      "outputs": []
    },
    {
      "cell_type": "markdown",
      "source": [
        "\n",
        "To retrieve youtube video information for each of the entry in the songs dictionary\n"
      ],
      "metadata": {
        "id": "vVmZvzI1Yivp"
      }
    },
    {
      "cell_type": "code",
      "source": [
        "def search_youtube(song_name, artist_name):\n",
        "    query = f\"{song_name} {artist_name}\"\n",
        "    while True:\n",
        "        try:\n",
        "            request = youtube.search().list(\n",
        "                part=\"snippet\",\n",
        "                maxResults=1,\n",
        "                q=query\n",
        "            )\n",
        "            response = request.execute()\n",
        "            return response['items'][0]['id']['videoId']\n",
        "        except HttpError as e:\n",
        "            if e.resp.status == 403:\n",
        "                print(\"YouTube API rate limit exceeded, retrying after 10 seconds.\")\n",
        "                time.sleep(10)\n",
        "            else:\n",
        "                raise e\n"
      ],
      "metadata": {
        "id": "L0p5i04_XkYL"
      },
      "execution_count": null,
      "outputs": []
    },
    {
      "cell_type": "markdown",
      "source": [
        "\n",
        "Get new YouTube playlist details from user\n"
      ],
      "metadata": {
        "id": "m9qiPU2qYl7P"
      }
    },
    {
      "cell_type": "code",
      "source": [
        "playlist_title = input(\"Enter your new YouTube Playlist name: \")\n",
        "playlist_description = input(\"Enter playlist description: \")\n",
        "\n",
        "request = youtube.playlists().insert(\n",
        "    part=\"snippet,status\",\n",
        "    body={\n",
        "        \"snippet\": {\n",
        "            \"title\": playlist_title,\n",
        "            \"description\": playlist_description,\n",
        "        },\n",
        "        \"status\": {\"privacy_status\": \"private\"}\n",
        "    }\n",
        ")\n",
        "\n",
        "response = request.execute()\n",
        "youtube_playlist_id = response['id']\n"
      ],
      "metadata": {
        "id": "8T8m4OwbXohP"
      },
      "execution_count": null,
      "outputs": []
    },
    {
      "cell_type": "markdown",
      "source": [
        "\n",
        "To actually add the youtube video for the respective song in the new Playlist while handling rate limits"
      ],
      "metadata": {
        "id": "SpUH5kcQYo4P"
      }
    },
    {
      "cell_type": "code",
      "source": [
        "def add_to_youtube_playlist(playlist_id, video_id):\n",
        "    while True:\n",
        "        try:\n",
        "            request = youtube.playlistItems().insert(\n",
        "                part=\"snippet\",\n",
        "                body={\n",
        "                    \"snippet\": {\n",
        "                        \"playlistId\": playlist_id,\n",
        "                        \"resourceId\": {\n",
        "                            \"kind\": \"youtube#video\",\n",
        "                            \"videoId\": video_id\n",
        "                        }\n",
        "                    }\n",
        "                }\n",
        "            )\n",
        "            response = request.execute()\n",
        "            break\n",
        "        except HttpError as e:\n",
        "            if e.resp.status == 403:\n",
        "                print(\"YouTube Rate Limit exceeded. Retrying after 10 seconds\")\n",
        "                time.sleep(10)\n",
        "            else:\n",
        "                raise e\n"
      ],
      "metadata": {
        "id": "LCzAh5_8XsvO"
      },
      "execution_count": null,
      "outputs": []
    },
    {
      "cell_type": "code",
      "source": [
        "for song_name, artist_name in songs:\n",
        "    video_id = search_youtube(song_name, artist_name)\n",
        "    add_to_youtube_playlist(youtube_playlist_id, video_id)\n",
        "\n",
        "print(f\"Playlist migration complete. New YouTube playlist ID: {youtube_playlist_id}\")\n"
      ],
      "metadata": {
        "id": "4BJ8WLoWXwCN"
      },
      "execution_count": null,
      "outputs": []
    }
  ]
}